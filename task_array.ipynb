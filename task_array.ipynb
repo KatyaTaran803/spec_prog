{
 "cells": [
  {
   "cell_type": "code",
   "execution_count": 6,
   "metadata": {
    "ExecuteTime": {
     "end_time": "2020-05-15T22:04:17.436451Z",
     "start_time": "2020-05-15T22:04:07.328765Z"
    }
   },
   "outputs": [
    {
     "data": {
      "text/plain": [
       "array([['16/12/2006', '17:24:00', 4.216, ..., 0.0, 1.0, 17.0],\n",
       "       ['16/12/2006', '17:25:00', 5.36, ..., 0.0, 1.0, 16.0],\n",
       "       ['16/12/2006', '17:26:00', 5.374, ..., 0.0, 2.0, 17.0],\n",
       "       ...,\n",
       "       ['26/11/2010', '21:00:00', 0.938, ..., 0.0, 0.0, 0.0],\n",
       "       ['26/11/2010', '21:01:00', 0.934, ..., 0.0, 0.0, 0.0],\n",
       "       ['26/11/2010', '21:02:00', 0.932, ..., 0.0, 0.0, 0.0]],\n",
       "      dtype=object)"
      ]
     },
     "execution_count": 6,
     "metadata": {},
     "output_type": "execute_result"
    }
   ],
   "source": [
    "import pandas as pd\n",
    "import numpy as np\n",
    "import time\n",
    "\n",
    "\n",
    "df = pd.read_csv('household2.txt', delimiter=';')\n",
    "\n",
    "df=df[df['Global_active_power']!=\"?\"]\n",
    "non_float_columns = ['Date', 'Time'] \n",
    "for column in df.columns:\n",
    "    if column not in non_float_columns:\n",
    "        df[column]=df[column].astype(float)\n",
    "\n",
    "myarray = df.values\n",
    "myarray \n"
   ]
  },
  {
   "cell_type": "code",
   "execution_count": 7,
   "metadata": {
    "ExecuteTime": {
     "end_time": "2020-05-15T22:04:18.653734Z",
     "start_time": "2020-05-15T22:04:18.465840Z"
    }
   },
   "outputs": [
    {
     "data": {
      "text/plain": [
       "array([['16/12/2006', '17:24:00', 4.216, ..., 1.0, 17.0, 0],\n",
       "       ['16/12/2006', '17:25:00', 5.36, ..., 1.0, 16.0, 1],\n",
       "       ['16/12/2006', '17:26:00', 5.374, ..., 2.0, 17.0, 2],\n",
       "       ...,\n",
       "       ['26/11/2010', '21:00:00', 0.938, ..., 0.0, 0.0, 2049277],\n",
       "       ['26/11/2010', '21:01:00', 0.934, ..., 0.0, 0.0, 2049278],\n",
       "       ['26/11/2010', '21:02:00', 0.932, ..., 0.0, 0.0, 2049279]],\n",
       "      dtype=object)"
      ]
     },
     "execution_count": 7,
     "metadata": {},
     "output_type": "execute_result"
    }
   ],
   "source": [
    "ind =  np.array([np.arange(0, len(myarray), 1)])\n",
    "myarray= np.concatenate((myarray, ind.T), axis=1)\n",
    "myarray"
   ]
  },
  {
   "cell_type": "code",
   "execution_count": 8,
   "metadata": {
    "ExecuteTime": {
     "end_time": "2020-05-15T22:04:30.077940Z",
     "start_time": "2020-05-15T22:04:29.991986Z"
    }
   },
   "outputs": [
    {
     "data": {
      "text/plain": [
       "5.857638888888889"
      ]
     },
     "execution_count": 8,
     "metadata": {},
     "output_type": "execute_result"
    }
   ],
   "source": [
    "np.mean(myarray[(myarray[:, 0] == '8/3/2008')][:,8])"
   ]
  },
  {
   "cell_type": "code",
   "execution_count": 9,
   "metadata": {
    "ExecuteTime": {
     "end_time": "2020-05-15T22:04:36.926402Z",
     "start_time": "2020-05-15T22:04:36.661540Z"
    }
   },
   "outputs": [
    {
     "data": {
      "text/plain": [
       "8.810416666666667"
      ]
     },
     "execution_count": 9,
     "metadata": {},
     "output_type": "execute_result"
    }
   ],
   "source": [
    "import numpy_indexed as npi\n",
    "start = myarray[myarray[:, 0 ]=='17/6/2008'][0,9]\n",
    "finish = myarray[myarray[:, 0 ]=='20/6/2008'][0,9]\n",
    "arr = myarray[(myarray[:, 9 ]>=start)&(myarray[:, 9 ]<=finish-1)]\n",
    "\n",
    "mas = npi.group_by(arr[:, 0]).split(arr[:, 8])\n",
    "i = 0\n",
    "mas1=[]\n",
    "while i < len(mas):\n",
    "    mas1.append(np.mean(mas[i]))\n",
    "    i = i + 1\n",
    "np.max(mas1)\n"
   ]
  },
  {
   "cell_type": "code",
   "execution_count": null,
   "metadata": {},
   "outputs": [],
   "source": []
  }
 ],
 "metadata": {
  "kernelspec": {
   "display_name": "Python 3",
   "language": "python",
   "name": "python3"
  },
  "language_info": {
   "codemirror_mode": {
    "name": "ipython",
    "version": 3
   },
   "file_extension": ".py",
   "mimetype": "text/x-python",
   "name": "python",
   "nbconvert_exporter": "python",
   "pygments_lexer": "ipython3",
   "version": "3.8.2"
  }
 },
 "nbformat": 4,
 "nbformat_minor": 4
}
