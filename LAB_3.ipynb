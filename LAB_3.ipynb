{
 "cells": [
  {
   "cell_type": "code",
   "execution_count": 8,
   "metadata": {
    "ExecuteTime": {
     "end_time": "2020-05-18T09:27:56.606643Z",
     "start_time": "2020-05-18T09:27:56.600647Z"
    }
   },
   "outputs": [],
   "source": [
    "import numpy as np\n",
    "import pandas as pd\n",
    "import matplotlib.pyplot as plt\n",
    "import time\n",
    "from numpy import random"
   ]
  },
  {
   "cell_type": "code",
   "execution_count": 9,
   "metadata": {
    "ExecuteTime": {
     "end_time": "2020-05-18T09:28:06.409559Z",
     "start_time": "2020-05-18T09:27:57.597571Z"
    }
   },
   "outputs": [
    {
     "name": "stderr",
     "output_type": "stream",
     "text": [
      "c:\\users\\катя\\appdata\\local\\programs\\python\\python38-32\\lib\\site-packages\\IPython\\core\\interactiveshell.py:3062: DtypeWarning: Columns (2,3,4,5,6,7) have mixed types.Specify dtype option on import or set low_memory=False.\n",
      "  has_raised = await self.run_ast_nodes(code_ast.body, cell_name,\n"
     ]
    },
    {
     "data": {
      "text/html": [
       "<div>\n",
       "<style scoped>\n",
       "    .dataframe tbody tr th:only-of-type {\n",
       "        vertical-align: middle;\n",
       "    }\n",
       "\n",
       "    .dataframe tbody tr th {\n",
       "        vertical-align: top;\n",
       "    }\n",
       "\n",
       "    .dataframe thead th {\n",
       "        text-align: right;\n",
       "    }\n",
       "</style>\n",
       "<table border=\"1\" class=\"dataframe\">\n",
       "  <thead>\n",
       "    <tr style=\"text-align: right;\">\n",
       "      <th></th>\n",
       "      <th>Date</th>\n",
       "      <th>Time</th>\n",
       "      <th>Global_active_power</th>\n",
       "      <th>Global_reactive_power</th>\n",
       "      <th>Voltage</th>\n",
       "      <th>Global_intensity</th>\n",
       "      <th>Sub_metering_1</th>\n",
       "      <th>Sub_metering_2</th>\n",
       "      <th>Sub_metering_3</th>\n",
       "    </tr>\n",
       "  </thead>\n",
       "  <tbody>\n",
       "    <tr>\n",
       "      <th>0</th>\n",
       "      <td>16/12/2006</td>\n",
       "      <td>17:24:00</td>\n",
       "      <td>4.216</td>\n",
       "      <td>0.418</td>\n",
       "      <td>234.84</td>\n",
       "      <td>18.4</td>\n",
       "      <td>0.0</td>\n",
       "      <td>1.0</td>\n",
       "      <td>17.0</td>\n",
       "    </tr>\n",
       "    <tr>\n",
       "      <th>1</th>\n",
       "      <td>16/12/2006</td>\n",
       "      <td>17:25:00</td>\n",
       "      <td>5.360</td>\n",
       "      <td>0.436</td>\n",
       "      <td>233.63</td>\n",
       "      <td>23.0</td>\n",
       "      <td>0.0</td>\n",
       "      <td>1.0</td>\n",
       "      <td>16.0</td>\n",
       "    </tr>\n",
       "    <tr>\n",
       "      <th>2</th>\n",
       "      <td>16/12/2006</td>\n",
       "      <td>17:26:00</td>\n",
       "      <td>5.374</td>\n",
       "      <td>0.498</td>\n",
       "      <td>233.29</td>\n",
       "      <td>23.0</td>\n",
       "      <td>0.0</td>\n",
       "      <td>2.0</td>\n",
       "      <td>17.0</td>\n",
       "    </tr>\n",
       "    <tr>\n",
       "      <th>3</th>\n",
       "      <td>16/12/2006</td>\n",
       "      <td>17:27:00</td>\n",
       "      <td>5.388</td>\n",
       "      <td>0.502</td>\n",
       "      <td>233.74</td>\n",
       "      <td>23.0</td>\n",
       "      <td>0.0</td>\n",
       "      <td>1.0</td>\n",
       "      <td>17.0</td>\n",
       "    </tr>\n",
       "    <tr>\n",
       "      <th>4</th>\n",
       "      <td>16/12/2006</td>\n",
       "      <td>17:28:00</td>\n",
       "      <td>3.666</td>\n",
       "      <td>0.528</td>\n",
       "      <td>235.68</td>\n",
       "      <td>15.8</td>\n",
       "      <td>0.0</td>\n",
       "      <td>1.0</td>\n",
       "      <td>17.0</td>\n",
       "    </tr>\n",
       "    <tr>\n",
       "      <th>...</th>\n",
       "      <td>...</td>\n",
       "      <td>...</td>\n",
       "      <td>...</td>\n",
       "      <td>...</td>\n",
       "      <td>...</td>\n",
       "      <td>...</td>\n",
       "      <td>...</td>\n",
       "      <td>...</td>\n",
       "      <td>...</td>\n",
       "    </tr>\n",
       "    <tr>\n",
       "      <th>2049275</th>\n",
       "      <td>26/11/2010</td>\n",
       "      <td>20:58:00</td>\n",
       "      <td>0.946</td>\n",
       "      <td>0.000</td>\n",
       "      <td>240.43</td>\n",
       "      <td>4.0</td>\n",
       "      <td>0.0</td>\n",
       "      <td>0.0</td>\n",
       "      <td>0.0</td>\n",
       "    </tr>\n",
       "    <tr>\n",
       "      <th>2049276</th>\n",
       "      <td>26/11/2010</td>\n",
       "      <td>20:59:00</td>\n",
       "      <td>0.944</td>\n",
       "      <td>0.000</td>\n",
       "      <td>240.00</td>\n",
       "      <td>4.0</td>\n",
       "      <td>0.0</td>\n",
       "      <td>0.0</td>\n",
       "      <td>0.0</td>\n",
       "    </tr>\n",
       "    <tr>\n",
       "      <th>2049277</th>\n",
       "      <td>26/11/2010</td>\n",
       "      <td>21:00:00</td>\n",
       "      <td>0.938</td>\n",
       "      <td>0.000</td>\n",
       "      <td>239.82</td>\n",
       "      <td>3.8</td>\n",
       "      <td>0.0</td>\n",
       "      <td>0.0</td>\n",
       "      <td>0.0</td>\n",
       "    </tr>\n",
       "    <tr>\n",
       "      <th>2049278</th>\n",
       "      <td>26/11/2010</td>\n",
       "      <td>21:01:00</td>\n",
       "      <td>0.934</td>\n",
       "      <td>0.000</td>\n",
       "      <td>239.70</td>\n",
       "      <td>3.8</td>\n",
       "      <td>0.0</td>\n",
       "      <td>0.0</td>\n",
       "      <td>0.0</td>\n",
       "    </tr>\n",
       "    <tr>\n",
       "      <th>2049279</th>\n",
       "      <td>26/11/2010</td>\n",
       "      <td>21:02:00</td>\n",
       "      <td>0.932</td>\n",
       "      <td>0.000</td>\n",
       "      <td>239.55</td>\n",
       "      <td>3.8</td>\n",
       "      <td>0.0</td>\n",
       "      <td>0.0</td>\n",
       "      <td>0.0</td>\n",
       "    </tr>\n",
       "  </tbody>\n",
       "</table>\n",
       "<p>2049280 rows × 9 columns</p>\n",
       "</div>"
      ],
      "text/plain": [
       "               Date      Time  Global_active_power  Global_reactive_power  \\\n",
       "0        16/12/2006  17:24:00                4.216                  0.418   \n",
       "1        16/12/2006  17:25:00                5.360                  0.436   \n",
       "2        16/12/2006  17:26:00                5.374                  0.498   \n",
       "3        16/12/2006  17:27:00                5.388                  0.502   \n",
       "4        16/12/2006  17:28:00                3.666                  0.528   \n",
       "...             ...       ...                  ...                    ...   \n",
       "2049275  26/11/2010  20:58:00                0.946                  0.000   \n",
       "2049276  26/11/2010  20:59:00                0.944                  0.000   \n",
       "2049277  26/11/2010  21:00:00                0.938                  0.000   \n",
       "2049278  26/11/2010  21:01:00                0.934                  0.000   \n",
       "2049279  26/11/2010  21:02:00                0.932                  0.000   \n",
       "\n",
       "         Voltage  Global_intensity  Sub_metering_1  Sub_metering_2  \\\n",
       "0         234.84              18.4             0.0             1.0   \n",
       "1         233.63              23.0             0.0             1.0   \n",
       "2         233.29              23.0             0.0             2.0   \n",
       "3         233.74              23.0             0.0             1.0   \n",
       "4         235.68              15.8             0.0             1.0   \n",
       "...          ...               ...             ...             ...   \n",
       "2049275   240.43               4.0             0.0             0.0   \n",
       "2049276   240.00               4.0             0.0             0.0   \n",
       "2049277   239.82               3.8             0.0             0.0   \n",
       "2049278   239.70               3.8             0.0             0.0   \n",
       "2049279   239.55               3.8             0.0             0.0   \n",
       "\n",
       "         Sub_metering_3  \n",
       "0                  17.0  \n",
       "1                  16.0  \n",
       "2                  17.0  \n",
       "3                  17.0  \n",
       "4                  17.0  \n",
       "...                 ...  \n",
       "2049275             0.0  \n",
       "2049276             0.0  \n",
       "2049277             0.0  \n",
       "2049278             0.0  \n",
       "2049279             0.0  \n",
       "\n",
       "[2049280 rows x 9 columns]"
      ]
     },
     "execution_count": 9,
     "metadata": {},
     "output_type": "execute_result"
    }
   ],
   "source": [
    "df = pd.read_csv('household2.txt', delimiter=';')\n",
    "df=df[df['Global_active_power']!=\"?\"]\n",
    "\n",
    "non_float_columns = ['Date', 'Time'] \n",
    "\n",
    "for column in df.columns:\n",
    "    if column not in non_float_columns:\n",
    "        df[column]=df[column].astype(float)\n",
    "df = df.reset_index(drop=True)\n",
    "df"
   ]
  },
  {
   "cell_type": "code",
   "execution_count": 10,
   "metadata": {
    "ExecuteTime": {
     "end_time": "2020-05-18T09:28:16.215966Z",
     "start_time": "2020-05-18T09:28:06.413556Z"
    },
    "scrolled": false
   },
   "outputs": [
    {
     "name": "stderr",
     "output_type": "stream",
     "text": [
      "c:\\users\\катя\\appdata\\local\\programs\\python\\python38-32\\lib\\site-packages\\IPython\\core\\interactiveshell.py:3062: DtypeWarning: Columns (2,3,4,5,6,7) have mixed types.Specify dtype option on import or set low_memory=False.\n",
      "  has_raised = await self.run_ast_nodes(code_ast.body, cell_name,\n"
     ]
    },
    {
     "data": {
      "text/plain": [
       "array([['16/12/2006', '17:24:00', 4.216, ..., 0.0, 1.0, 17.0],\n",
       "       ['16/12/2006', '17:25:00', 5.36, ..., 0.0, 1.0, 16.0],\n",
       "       ['16/12/2006', '17:26:00', 5.374, ..., 0.0, 2.0, 17.0],\n",
       "       ...,\n",
       "       ['26/11/2010', '21:00:00', 0.938, ..., 0.0, 0.0, 0.0],\n",
       "       ['26/11/2010', '21:01:00', 0.934, ..., 0.0, 0.0, 0.0],\n",
       "       ['26/11/2010', '21:02:00', 0.932, ..., 0.0, 0.0, 0.0]],\n",
       "      dtype=object)"
      ]
     },
     "execution_count": 10,
     "metadata": {},
     "output_type": "execute_result"
    }
   ],
   "source": [
    "df = pd.read_csv('household2.txt', delimiter=';')\n",
    "\n",
    "df=df[df['Global_active_power']!=\"?\"]\n",
    "non_float_columns = ['Date', 'Time'] \n",
    "for column in df.columns:\n",
    "    if column not in non_float_columns:\n",
    "        df[column]=df[column].astype(float)\n",
    "\n",
    "myarray = df.values\n",
    "myarray \n"
   ]
  },
  {
   "cell_type": "code",
   "execution_count": 11,
   "metadata": {
    "ExecuteTime": {
     "end_time": "2020-05-18T09:28:16.334881Z",
     "start_time": "2020-05-18T09:28:16.220946Z"
    }
   },
   "outputs": [
    {
     "data": {
      "text/html": [
       "<div>\n",
       "<style scoped>\n",
       "    .dataframe tbody tr th:only-of-type {\n",
       "        vertical-align: middle;\n",
       "    }\n",
       "\n",
       "    .dataframe tbody tr th {\n",
       "        vertical-align: top;\n",
       "    }\n",
       "\n",
       "    .dataframe thead th {\n",
       "        text-align: right;\n",
       "    }\n",
       "</style>\n",
       "<table border=\"1\" class=\"dataframe\">\n",
       "  <thead>\n",
       "    <tr style=\"text-align: right;\">\n",
       "      <th></th>\n",
       "      <th>numpy_time</th>\n",
       "      <th>pandas_time</th>\n",
       "      <th>count</th>\n",
       "    </tr>\n",
       "  </thead>\n",
       "  <tbody>\n",
       "    <tr>\n",
       "      <th>0</th>\n",
       "      <td>0.000000</td>\n",
       "      <td>0.003995</td>\n",
       "      <td>10</td>\n",
       "    </tr>\n",
       "    <tr>\n",
       "      <th>1</th>\n",
       "      <td>0.000000</td>\n",
       "      <td>0.002020</td>\n",
       "      <td>100</td>\n",
       "    </tr>\n",
       "    <tr>\n",
       "      <th>2</th>\n",
       "      <td>0.000000</td>\n",
       "      <td>0.001998</td>\n",
       "      <td>1000</td>\n",
       "    </tr>\n",
       "    <tr>\n",
       "      <th>3</th>\n",
       "      <td>0.000000</td>\n",
       "      <td>0.001981</td>\n",
       "      <td>10000</td>\n",
       "    </tr>\n",
       "    <tr>\n",
       "      <th>4</th>\n",
       "      <td>0.006996</td>\n",
       "      <td>0.002997</td>\n",
       "      <td>100000</td>\n",
       "    </tr>\n",
       "    <tr>\n",
       "      <th>5</th>\n",
       "      <td>0.055967</td>\n",
       "      <td>0.005997</td>\n",
       "      <td>1000000</td>\n",
       "    </tr>\n",
       "  </tbody>\n",
       "</table>\n",
       "</div>"
      ],
      "text/plain": [
       "   numpy_time  pandas_time    count\n",
       "0    0.000000     0.003995       10\n",
       "1    0.000000     0.002020      100\n",
       "2    0.000000     0.001998     1000\n",
       "3    0.000000     0.001981    10000\n",
       "4    0.006996     0.002997   100000\n",
       "5    0.055967     0.005997  1000000"
      ]
     },
     "execution_count": 11,
     "metadata": {},
     "output_type": "execute_result"
    }
   ],
   "source": [
    "import time\n",
    "time_value = [] \n",
    "my_df = pd.DataFrame(columns = ['numpy_time','pandas_time',\"count\"])  \n",
    "\n",
    "for i in range(1,7):\n",
    "    i=10**i\n",
    "        \n",
    "    start_numpy = time.time()\n",
    "    myarray1 = myarray[:i]\n",
    "    myarray1[myarray1[:,2]>5]\n",
    "    finish_numpy = time.time()-start_numpy\n",
    "    \n",
    "    start_pandas = time.time()\n",
    "    df1 = df[:i]\n",
    "    df1[df1['Global_active_power']>5]\n",
    "    finish_pandas = time.time()-start_pandas\n",
    "    \n",
    "    \n",
    "    time_value.append({\"numpy_time\": finish_numpy,\n",
    "                       \"pandas_time\": finish_pandas,\n",
    "                       \"count\":i\n",
    "                      })\n",
    "    \n",
    "my_df = pd.DataFrame(time_value)\n",
    "my_df\n"
   ]
  },
  {
   "cell_type": "code",
   "execution_count": 12,
   "metadata": {
    "ExecuteTime": {
     "end_time": "2020-05-18T09:28:16.680680Z",
     "start_time": "2020-05-18T09:28:16.338880Z"
    }
   },
   "outputs": [
    {
     "data": {
      "image/png": "[encoded data removed]",
      "text/plain": [
       "<Figure size 432x288 with 1 Axes>"
      ]
     },
     "metadata": {
      "needs_background": "light"
     },
     "output_type": "display_data"
    }
   ],
   "source": [
    "my_df[\"count\"] = my_df[\"count\"].astype(str)\n",
    "plt.plot(my_df[\"count\"], my_df[\"numpy_time\"], label=\"numpy_time\")\n",
    "plt.plot(my_df[\"count\"], my_df[\"pandas_time\"], label=\"pandas_time\")\n",
    "plt.xlabel(\"data\")\n",
    "plt.ylabel(\"time\")\n",
    "plt.legend()\n",
    "plt.title(\"task_1\")\n",
    "plt.show()"
   ]
  },
  {
   "cell_type": "code",
   "execution_count": 13,
   "metadata": {
    "ExecuteTime": {
     "end_time": "2020-05-18T09:28:17.173406Z",
     "start_time": "2020-05-18T09:28:16.685678Z"
    }
   },
   "outputs": [
    {
     "data": {
      "text/html": [
       "<div>\n",
       "<style scoped>\n",
       "    .dataframe tbody tr th:only-of-type {\n",
       "        vertical-align: middle;\n",
       "    }\n",
       "\n",
       "    .dataframe tbody tr th {\n",
       "        vertical-align: top;\n",
       "    }\n",
       "\n",
       "    .dataframe thead th {\n",
       "        text-align: right;\n",
       "    }\n",
       "</style>\n",
       "<table border=\"1\" class=\"dataframe\">\n",
       "  <thead>\n",
       "    <tr style=\"text-align: right;\">\n",
       "      <th></th>\n",
       "      <th>numpy_time</th>\n",
       "      <th>pandas_time</th>\n",
       "      <th>count</th>\n",
       "    </tr>\n",
       "  </thead>\n",
       "  <tbody>\n",
       "    <tr>\n",
       "      <th>0</th>\n",
       "      <td>0.000000</td>\n",
       "      <td>0.002003</td>\n",
       "      <td>10</td>\n",
       "    </tr>\n",
       "    <tr>\n",
       "      <th>1</th>\n",
       "      <td>0.000000</td>\n",
       "      <td>0.001994</td>\n",
       "      <td>100</td>\n",
       "    </tr>\n",
       "    <tr>\n",
       "      <th>2</th>\n",
       "      <td>0.000000</td>\n",
       "      <td>0.002999</td>\n",
       "      <td>1000</td>\n",
       "    </tr>\n",
       "    <tr>\n",
       "      <th>3</th>\n",
       "      <td>0.003000</td>\n",
       "      <td>0.004996</td>\n",
       "      <td>10000</td>\n",
       "    </tr>\n",
       "    <tr>\n",
       "      <th>4</th>\n",
       "      <td>0.027987</td>\n",
       "      <td>0.016989</td>\n",
       "      <td>100000</td>\n",
       "    </tr>\n",
       "    <tr>\n",
       "      <th>5</th>\n",
       "      <td>0.258852</td>\n",
       "      <td>0.128925</td>\n",
       "      <td>1000000</td>\n",
       "    </tr>\n",
       "  </tbody>\n",
       "</table>\n",
       "</div>"
      ],
      "text/plain": [
       "   numpy_time  pandas_time    count\n",
       "0    0.000000     0.002003       10\n",
       "1    0.000000     0.001994      100\n",
       "2    0.000000     0.002999     1000\n",
       "3    0.003000     0.004996    10000\n",
       "4    0.027987     0.016989   100000\n",
       "5    0.258852     0.128925  1000000"
      ]
     },
     "execution_count": 13,
     "metadata": {},
     "output_type": "execute_result"
    }
   ],
   "source": [
    "import time\n",
    "time_value = [] \n",
    "my_df = pd.DataFrame(columns = ['numpy_time','pandas_time',\"count\"])  \n",
    "\n",
    "for i in range(1,7):\n",
    "    i=10**i\n",
    "        \n",
    "    start_numpy = time.time()\n",
    "    myarray2 = myarray[:i]\n",
    "    myarray2[myarray2[:,4]>235]\n",
    "    finish_numpy = time.time()-start_numpy\n",
    "    \n",
    "    start_pandas = time.time()\n",
    "    df2 = df[:i]\n",
    "    df2[df2['Voltage']>235]\n",
    "    finish_pandas = time.time()-start_pandas\n",
    "    \n",
    "    \n",
    "    time_value.append({\"numpy_time\": finish_numpy,\n",
    "                       \"pandas_time\": finish_pandas,\n",
    "                       \"count\":i\n",
    "                      })\n",
    "    \n",
    "my_df2 = pd.DataFrame(time_value)\n",
    "my_df2\n"
   ]
  },
  {
   "cell_type": "code",
   "execution_count": 14,
   "metadata": {
    "ExecuteTime": {
     "end_time": "2020-05-18T09:28:17.445242Z",
     "start_time": "2020-05-18T09:28:17.178396Z"
    }
   },
   "outputs": [
    {
     "data": {
      "image/png": "[encoded data removed]",
      "text/plain": [
       "<Figure size 432x288 with 1 Axes>"
      ]
     },
     "metadata": {
      "needs_background": "light"
     },
     "output_type": "display_data"
    }
   ],
   "source": [
    "my_df2[\"count\"] = my_df2[\"count\"].astype(str)\n",
    "plt.plot(my_df2[\"count\"], my_df2[\"numpy_time\"], label=\"numpy_time\")\n",
    "plt.plot(my_df2[\"count\"], my_df2[\"pandas_time\"], label=\"pandas_time\")\n",
    "plt.xlabel(\"data\")\n",
    "plt.ylabel(\"time\")\n",
    "plt.legend()\n",
    "plt.title(\"task_2\")\n",
    "plt.show()"
   ]
  },
  {
   "cell_type": "code",
   "execution_count": 15,
   "metadata": {
    "ExecuteTime": {
     "end_time": "2020-05-18T09:28:17.674114Z",
     "start_time": "2020-05-18T09:28:17.448241Z"
    }
   },
   "outputs": [
    {
     "data": {
      "text/html": [
       "<div>\n",
       "<style scoped>\n",
       "    .dataframe tbody tr th:only-of-type {\n",
       "        vertical-align: middle;\n",
       "    }\n",
       "\n",
       "    .dataframe tbody tr th {\n",
       "        vertical-align: top;\n",
       "    }\n",
       "\n",
       "    .dataframe thead th {\n",
       "        text-align: right;\n",
       "    }\n",
       "</style>\n",
       "<table border=\"1\" class=\"dataframe\">\n",
       "  <thead>\n",
       "    <tr style=\"text-align: right;\">\n",
       "      <th></th>\n",
       "      <th>numpy_time</th>\n",
       "      <th>pandas_time</th>\n",
       "      <th>count</th>\n",
       "    </tr>\n",
       "  </thead>\n",
       "  <tbody>\n",
       "    <tr>\n",
       "      <th>0</th>\n",
       "      <td>0.000000</td>\n",
       "      <td>0.004996</td>\n",
       "      <td>10</td>\n",
       "    </tr>\n",
       "    <tr>\n",
       "      <th>1</th>\n",
       "      <td>0.000000</td>\n",
       "      <td>0.004997</td>\n",
       "      <td>100</td>\n",
       "    </tr>\n",
       "    <tr>\n",
       "      <th>2</th>\n",
       "      <td>0.001000</td>\n",
       "      <td>0.002998</td>\n",
       "      <td>1000</td>\n",
       "    </tr>\n",
       "    <tr>\n",
       "      <th>3</th>\n",
       "      <td>0.002001</td>\n",
       "      <td>0.003997</td>\n",
       "      <td>10000</td>\n",
       "    </tr>\n",
       "    <tr>\n",
       "      <th>4</th>\n",
       "      <td>0.014998</td>\n",
       "      <td>0.003990</td>\n",
       "      <td>100000</td>\n",
       "    </tr>\n",
       "    <tr>\n",
       "      <th>5</th>\n",
       "      <td>0.137922</td>\n",
       "      <td>0.016989</td>\n",
       "      <td>1000000</td>\n",
       "    </tr>\n",
       "  </tbody>\n",
       "</table>\n",
       "</div>"
      ],
      "text/plain": [
       "   numpy_time  pandas_time    count\n",
       "0    0.000000     0.004996       10\n",
       "1    0.000000     0.004997      100\n",
       "2    0.001000     0.002998     1000\n",
       "3    0.002001     0.003997    10000\n",
       "4    0.014998     0.003990   100000\n",
       "5    0.137922     0.016989  1000000"
      ]
     },
     "execution_count": 15,
     "metadata": {},
     "output_type": "execute_result"
    }
   ],
   "source": [
    "import time\n",
    "time_value = [] \n",
    "my_df = pd.DataFrame(columns = ['numpy_time','pandas_time',\"count\"])  \n",
    "\n",
    "for i in range(1,7):\n",
    "    i=10**i\n",
    "        \n",
    "    start_numpy = time.time()\n",
    "    myarray3 = myarray[:i]\n",
    "    myarray3[(myarray3[:, 5] >= 19) & (myarray3[:, 5] < 20) & (myarray3[:, 7] >= myarray3[:, 8])]\n",
    "    finish_numpy = time.time()-start_numpy\n",
    "    \n",
    "    start_pandas = time.time()\n",
    "    df3 = df[:i]\n",
    "    df3[(df3['Global_intensity'] >=19)&(df3['Global_intensity'] <= 20)&(df3['Sub_metering_2']>df3['Sub_metering_3'])]\n",
    "    finish_pandas = time.time()-start_pandas\n",
    "    \n",
    "    \n",
    "    time_value.append({\"numpy_time\": finish_numpy,\n",
    "                       \"pandas_time\": finish_pandas,\n",
    "                       \"count\":i\n",
    "                      })\n",
    "    \n",
    "my_df3 = pd.DataFrame(time_value)\n",
    "my_df3"
   ]
  },
  {
   "cell_type": "code",
   "execution_count": 16,
   "metadata": {
    "ExecuteTime": {
     "end_time": "2020-05-18T09:28:17.987930Z",
     "start_time": "2020-05-18T09:28:17.680109Z"
    }
   },
   "outputs": [
    {
     "data": {
      "image/png": "[encoded data removed]",
      "text/plain": [
       "<Figure size 432x288 with 1 Axes>"
      ]
     },
     "metadata": {
      "needs_background": "light"
     },
     "output_type": "display_data"
    }
   ],
   "source": [
    "my_df3[\"count\"] = my_df3[\"count\"].astype(str)\n",
    "plt.plot(my_df3[\"count\"], my_df3[\"numpy_time\"], label=\"numpy_time\")\n",
    "plt.plot(my_df3[\"count\"], my_df3[\"pandas_time\"], label=\"pandas_time\")\n",
    "plt.xlabel(\"data\")\n",
    "plt.ylabel(\"time\")\n",
    "plt.legend()\n",
    "plt.title(\"task_3\")\n",
    "plt.show()"
   ]
  },
  {
   "cell_type": "code",
   "execution_count": 54,
   "metadata": {
    "ExecuteTime": {
     "end_time": "2020-05-18T09:36:58.519426Z",
     "start_time": "2020-05-18T09:36:57.108215Z"
    }
   },
   "outputs": [
    {
     "data": {
      "text/html": [
       "<div>\n",
       "<style scoped>\n",
       "    .dataframe tbody tr th:only-of-type {\n",
       "        vertical-align: middle;\n",
       "    }\n",
       "\n",
       "    .dataframe tbody tr th {\n",
       "        vertical-align: top;\n",
       "    }\n",
       "\n",
       "    .dataframe thead th {\n",
       "        text-align: right;\n",
       "    }\n",
       "</style>\n",
       "<table border=\"1\" class=\"dataframe\">\n",
       "  <thead>\n",
       "    <tr style=\"text-align: right;\">\n",
       "      <th></th>\n",
       "      <th>numpy_time</th>\n",
       "      <th>pandas_time</th>\n",
       "      <th>count</th>\n",
       "    </tr>\n",
       "  </thead>\n",
       "  <tbody>\n",
       "    <tr>\n",
       "      <th>0</th>\n",
       "      <td>0.000000</td>\n",
       "      <td>0.000999</td>\n",
       "      <td>10</td>\n",
       "    </tr>\n",
       "    <tr>\n",
       "      <th>1</th>\n",
       "      <td>0.000000</td>\n",
       "      <td>0.000999</td>\n",
       "      <td>100</td>\n",
       "    </tr>\n",
       "    <tr>\n",
       "      <th>2</th>\n",
       "      <td>0.000000</td>\n",
       "      <td>0.001000</td>\n",
       "      <td>1000</td>\n",
       "    </tr>\n",
       "    <tr>\n",
       "      <th>3</th>\n",
       "      <td>0.003020</td>\n",
       "      <td>0.001000</td>\n",
       "      <td>10000</td>\n",
       "    </tr>\n",
       "    <tr>\n",
       "      <th>4</th>\n",
       "      <td>0.020968</td>\n",
       "      <td>0.003999</td>\n",
       "      <td>100000</td>\n",
       "    </tr>\n",
       "  </tbody>\n",
       "</table>\n",
       "</div>"
      ],
      "text/plain": [
       "   numpy_time  pandas_time   count\n",
       "0    0.000000     0.000999      10\n",
       "1    0.000000     0.000999     100\n",
       "2    0.000000     0.001000    1000\n",
       "3    0.003020     0.001000   10000\n",
       "4    0.020968     0.003999  100000"
      ]
     },
     "execution_count": 54,
     "metadata": {},
     "output_type": "execute_result"
    }
   ],
   "source": [
    "import time\n",
    "time_value = [] \n",
    "my_df4 = pd.DataFrame(columns = ['numpy_time','pandas_time',\"count\"])  \n",
    "\n",
    "rand_num = myarray[np.random.randint(myarray.shape[0],size=500000)]\n",
    "rand_pan = df.sample(500000)\n",
    "\n",
    "for i in range(1,6):\n",
    "    i=10**i\n",
    "     \n",
    "    \n",
    "    myarray4 = rand_num[:i]\n",
    "    start_numpy = time.time()\n",
    "    mean_value1 = np.mean(myarray4[:, 6]) \n",
    "    mean_value2 = np.mean(myarray4[:, 7]) \n",
    "    mean_value3 = np.mean(myarray4[:, 8]) \n",
    "    finish_numpy = time.time()-start_numpy\n",
    "    \n",
    "    \n",
    "    df4 = rand_pan[:i]\n",
    "    start_pandas = time.time()\n",
    "    Sub_1_mean = df4['Sub_metering_1'].mean()\n",
    "    Sub_2_mean = df4['Sub_metering_2'].mean()\n",
    "    Sub_3_mean = df4['Sub_metering_3'].mean()\n",
    "    finish_pandas = time.time()-start_pandas\n",
    "    \n",
    "    \n",
    "    time_value.append({\"numpy_time\": finish_numpy,\n",
    "                       \"pandas_time\": finish_pandas,\n",
    "                       \"count\":i\n",
    "                      })\n",
    "    \n",
    "my_df4 = pd.DataFrame(time_value)\n",
    "my_df4"
   ]
  },
  {
   "cell_type": "code",
   "execution_count": 55,
   "metadata": {
    "ExecuteTime": {
     "end_time": "2020-05-18T09:37:02.301416Z",
     "start_time": "2020-05-18T09:37:02.093553Z"
    }
   },
   "outputs": [
    {
     "data": {
      "image/png": "[encoded data removed]",
      "text/plain": [
       "<Figure size 432x288 with 1 Axes>"
      ]
     },
     "metadata": {
      "needs_background": "light"
     },
     "output_type": "display_data"
    }
   ],
   "source": [
    "my_df4[\"count\"] = my_df4[\"count\"].astype(str)\n",
    "plt.plot(my_df4[\"count\"], my_df4[\"numpy_time\"], label=\"numpy_time\")\n",
    "plt.plot(my_df4[\"count\"], my_df4[\"pandas_time\"], label=\"pandas_time\")\n",
    "plt.xlabel(\"data\")\n",
    "plt.ylabel(\"time\")\n",
    "plt.legend()\n",
    "plt.title(\"task_4\")\n",
    "plt.show()"
   ]
  },
  {
   "cell_type": "code",
   "execution_count": null,
   "metadata": {
    "ExecuteTime": {
     "end_time": "2020-05-18T09:28:18.337734Z",
     "start_time": "2020-05-18T09:28:04.072Z"
    }
   },
   "outputs": [],
   "source": [
    "import time\n",
    "time_value = [] \n",
    "my_df = pd.DataFrame(columns = ['numpy_time','pandas_time',\"count\"])  \n",
    "\n",
    "for i in range(1,7):\n",
    "    i=10**i\n",
    "        \n",
    "    start_numpy = time.time()\n",
    "    myarray5 = myarray[:i]\n",
    "    \n",
    "    array5 = myarray5[(myarray5[:, 1] > '18:00:00') & (myarray5[:, 2] > 6) & (myarray5[:, 7] > myarray5[:, 6]) &(myarray5[:, 7] > myarray5[:, 8])]\n",
    "    array5[: int(array5.shape[0] / 2), :][::3]\n",
    "    array5[int(array5.shape[0] / 2)+1 :, :][::4]\n",
    "    \n",
    "    finish_numpy = time.time()-start_numpy\n",
    "    \n",
    "    \n",
    "    \n",
    "    start_pandas = time.time()\n",
    "    df5 = df[:i]\n",
    "    \n",
    "    df18_00 = df5[df5['Time']>='18:00:00']\n",
    "    df_rez = df18_00[(df18_00['Global_active_power']>6)&(df18_00['Sub_metering_2']>df18_00['Sub_metering_1'])\n",
    "        &(df18_00['Sub_metering_2']>df18_00['Sub_metering_3'])]\n",
    "    \n",
    "    first_half = df_rez [0:int(len(df_rez)/2)+1][::3]\n",
    "    second_half = df_rez [int(len(df_rez)/2)+1:len(df_rez)][::4]\n",
    "\n",
    "    finish_pandas = time.time()-start_pandas\n",
    "    \n",
    "    \n",
    "    time_value.append({\"numpy_time\": finish_numpy,\n",
    "                       \"pandas_time\": finish_pandas,\n",
    "                       \"count\":i\n",
    "                      })\n",
    "    \n",
    "my_df5 = pd.DataFrame(time_value)\n",
    "my_df5"
   ]
  },
  {
   "cell_type": "code",
   "execution_count": null,
   "metadata": {
    "ExecuteTime": {
     "end_time": "2020-05-18T09:28:18.340731Z",
     "start_time": "2020-05-18T09:28:05.209Z"
    }
   },
   "outputs": [],
   "source": [
    "my_df5[\"count\"] = my_df5[\"count\"].astype(str)\n",
    "plt.plot(my_df5[\"count\"], my_df5[\"numpy_time\"], label=\"numpy_time\")\n",
    "plt.plot(my_df5[\"count\"], my_df5[\"pandas_time\"], label=\"pandas_time\")\n",
    "plt.xlabel(\"data\")\n",
    "plt.ylabel(\"time\")\n",
    "plt.legend()\n",
    "plt.title(\"task_5\")\n",
    "plt.show()"
   ]
  },
  {
   "cell_type": "code",
   "execution_count": null,
   "metadata": {},
   "outputs": [],
   "source": []
  }
 ],
 "metadata": {
  "kernelspec": {
   "display_name": "Python 3",
   "language": "python",
   "name": "python3"
  },
  "language_info": {
   "codemirror_mode": {
    "name": "ipython",
    "version": 3
   },
   "file_extension": ".py",
   "mimetype": "text/x-python",
   "name": "python",
   "nbconvert_exporter": "python",
   "pygments_lexer": "ipython3",
   "version": "3.8.2"
  }
 },
 "nbformat": 4,
 "nbformat_minor": 4
}
